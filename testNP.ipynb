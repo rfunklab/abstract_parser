{
 "cells": [
  {
   "cell_type": "code",
   "execution_count": 1,
   "metadata": {},
   "outputs": [
    {
     "name": "stderr",
     "output_type": "stream",
     "text": [
      "/Users/nguyenhoangtam/Library/r-miniconda/lib/python3.12/site-packages/tqdm/auto.py:21: TqdmWarning: IProgress not found. Please update jupyter and ipywidgets. See https://ipywidgets.readthedocs.io/en/stable/user_install.html\n",
      "  from .autonotebook import tqdm as notebook_tqdm\n",
      "The cache for model files in Transformers v4.22.0 has been updated. Migrating your old cache. This is a one-time only operation. You can interrupt this and resume the migration later on by calling `transformers.utils.move_cache()`.\n",
      "0it [00:00, ?it/s]\n"
     ]
    },
    {
     "data": {
      "text/plain": [
       "<module 'AbstractParser' from '/Users/nguyenhoangtam/Library/CloudStorage/GoogleDrive-mac2020to2025archive@gmail.com/My Drive/abstract_parser/AbstractParser.py'>"
      ]
     },
     "execution_count": 1,
     "metadata": {},
     "output_type": "execute_result"
    }
   ],
   "source": [
    "from sentence_transformers import SentenceTransformer\n",
    "import pandas as pd\n",
    "import numpy as np\n",
    "import spacy #install spacy won't work with python version greater than 3.9 (use 3.6 - 3.9)\n",
    "import re\n",
    "import ConceptExtractor\n",
    "import general_utils\n",
    "import AdvancedEmbedder\n",
    "import AbstractParser\n",
    "from general_utils import *\n",
    "import importlib\n",
    "import config\n",
    "import warnings\n",
    "from config import *\n",
    "warnings.filterwarnings(\"ignore\")\n",
    "\n",
    "importlib.reload(ConceptExtractor) #needed when the script is updated, jupyternb doesn't do the auto-sunc for you\n",
    "importlib.reload(config)\n",
    "importlib.reload(general_utils)\n",
    "importlib.reload(AdvancedEmbedder)\n",
    "importlib.reload(AbstractParser)\n",
    "\n",
    "# concept_extract = ConceptExtractor.ConceptExtractor()"
   ]
  },
  {
   "cell_type": "code",
   "execution_count": null,
   "metadata": {},
   "outputs": [
    {
     "name": "stdout",
     "output_type": "stream",
     "text": [
      "Collecting en-core-web-lg==3.8.0\n",
      "  Downloading https://github.com/explosion/spacy-models/releases/download/en_core_web_lg-3.8.0/en_core_web_lg-3.8.0-py3-none-any.whl (400.7 MB)\n",
      "\u001b[2K     \u001b[90m━━━━━━━━━━━━━━━━━━━━━━━━━━━━━━━━━━━━━━\u001b[0m \u001b[32m400.7/400.7 MB\u001b[0m \u001b[31m21.2 MB/s\u001b[0m eta \u001b[36m0:00:00\u001b[0m00:01\u001b[0m00:01\u001b[0m\n",
      "\u001b[?25hInstalling collected packages: en-core-web-lg\n",
      "Successfully installed en-core-web-lg-3.8.0\n",
      "\u001b[38;5;2m✔ Download and installation successful\u001b[0m\n",
      "You can now load the package via spacy.load('en_core_web_lg')\n"
     ]
    }
   ],
   "source": [
    "#please comment out and run the lines below\n",
    "\n",
    "\n",
    "#pypandoc.download_pandoc()\n",
    "#!python -m spacy download en_core_web_lg\n"
   ]
  },
  {
   "cell_type": "code",
   "execution_count": null,
   "metadata": {},
   "outputs": [],
   "source": [
    "#initialize objects needed to run abstractParser\n",
    "concept_extractor = ConceptExtractor.ConceptExtractor(SPACY_MOD)\n",
    "embedder = AdvancedEmbedder.AdvancedEmbedder(TRANSFORMERS_MOD)\n",
    "\n",
    "#sample text\n",
    "text = \"\"\"In this paper we investigate the host-country effects of foreign direct investment (FDI). We extend the abundant existing literature on this topic in three ways. First, we explicitly acknowledge a potential endogeneity in the relationship between a country‚Äôs economic performance (measured by labour productivity) and FDI by estimating a system of simultaneous equations. Second, we consider direct and additional indirect effects, which can be tracked through the system of equations when deriving our conclusions. Third, we base our estimations on a sample including OECD as well as selected non-OECD countries for seven manufacturing industries over the period 1981‚Äì2000. The results suggest a positive relationship between FDI and output as well as productivity and export growth, whereas there is also evidence for a downward pressure on wage growth as a result FDI. However, the magnitude of effects is surprisingly small.\"\"\"\n",
    "\n",
    "#input the parameters to initialize AbstractParser\n",
    "abstractParser = AbstractParser.AbstractParser(text, concept_extractor, embedder)"
   ]
  },
  {
   "cell_type": "code",
   "execution_count": 10,
   "metadata": {},
   "outputs": [
    {
     "data": {
      "text/plain": [
       "'In this paper we investigate the host-country effects of foreign direct investment (FDI). We extend the abundant existing literature on this topic in three ways. First, we explicitly acknowledge a potential endogeneity in the relationship between a country‚Äôs economic performance (measured by labour productivity) and FDI by estimating a system of simultaneous equations. Second, we consider direct and additional indirect effects, which can be tracked through the system of equations when deriving our conclusions. Third, we base our estimations on a sample including OECD as well as selected non-OECD countries for seven manufacturing industries over the period 1981‚Äì2000. The results suggest a positive relationship between FDI and output as well as productivity and export growth, whereas there is also evidence for a downward pressure on wage growth as a result FDI. However, the magnitude of effects is surprisingly small.'"
      ]
     },
     "execution_count": 10,
     "metadata": {},
     "output_type": "execute_result"
    }
   ],
   "source": [
    "# get clean text (html/mathml/etc tags removed)\n",
    "abstractParser.clean_text()"
   ]
  },
  {
   "cell_type": "code",
   "execution_count": 11,
   "metadata": {},
   "outputs": [
    {
     "data": {
      "text/plain": [
       "['this paper',\n",
       " 'we',\n",
       " 'the host-country effects',\n",
       " 'FDI',\n",
       " 'We',\n",
       " 'the abundant existing literature',\n",
       " 'this topic',\n",
       " 'three ways',\n",
       " 'we',\n",
       " 'a potential endogeneity',\n",
       " 'the relationship',\n",
       " 'a country‚Äôs economic performance',\n",
       " 'labour productivity',\n",
       " 'FDI',\n",
       " 'we',\n",
       " 'direct and additional indirect effects',\n",
       " 'which',\n",
       " 'our conclusions',\n",
       " 'we',\n",
       " 'our estimations',\n",
       " 'a sample',\n",
       " 'OECD',\n",
       " 'selected non-OECD countries',\n",
       " 'seven manufacturing industries',\n",
       " 'the period',\n",
       " 'The results',\n",
       " 'a positive relationship',\n",
       " 'FDI',\n",
       " 'output',\n",
       " 'productivity and export growth',\n",
       " 'evidence',\n",
       " 'a downward pressure',\n",
       " 'wage growth',\n",
       " 'a result',\n",
       " 'FDI',\n",
       " 'effects of foreign direct investment',\n",
       " 'a system of simultaneous equations',\n",
       " 'the system of equations',\n",
       " 'the magnitude of effects']"
      ]
     },
     "execution_count": 11,
     "metadata": {},
     "output_type": "execute_result"
    }
   ],
   "source": [
    "# get a list of raw concepts (BEFORE lemmatization)\n",
    "abstractParser.raw_concepts()"
   ]
  },
  {
   "cell_type": "code",
   "execution_count": null,
   "metadata": {},
   "outputs": [
    {
     "data": {
      "text/plain": [
       "['paper',\n",
       " '',\n",
       " 'host country effect',\n",
       " 'fdi',\n",
       " '',\n",
       " 'abundant exist literature',\n",
       " 'topic',\n",
       " 'way',\n",
       " '',\n",
       " 'potential endogeneity',\n",
       " 'relationship',\n",
       " 'country‚äôs economic performance',\n",
       " 'labour productivity',\n",
       " 'fdi',\n",
       " '',\n",
       " 'direct and additional indirect effect',\n",
       " '',\n",
       " 'conclusion',\n",
       " '',\n",
       " 'estimation',\n",
       " 'sample',\n",
       " 'oecd',\n",
       " 'select non oecd country',\n",
       " 'seven manufacturing industry',\n",
       " 'period',\n",
       " 'result',\n",
       " 'positive relationship',\n",
       " 'fdi',\n",
       " 'output',\n",
       " 'productivity and export growth',\n",
       " 'evidence',\n",
       " 'downward pressure',\n",
       " 'wage growth',\n",
       " 'result',\n",
       " 'fdi',\n",
       " 'effect of foreign direct investment',\n",
       " 'system of simultaneous equation',\n",
       " 'system of equation',\n",
       " 'magnitude of effect']"
      ]
     },
     "execution_count": 9,
     "metadata": {},
     "output_type": "execute_result"
    }
   ],
   "source": [
    "\n",
    "# get a list of clean concepts (AFTER lemmatization)\n",
    "abstractParser.clean_concepts()\n"
   ]
  },
  {
   "cell_type": "code",
   "execution_count": 12,
   "metadata": {},
   "outputs": [
    {
     "data": {
      "text/plain": [
       "[0.027230337262153625,\n",
       " -0.020466547459363937,\n",
       " 0.4012804329395294,\n",
       " 0.3822871446609497,\n",
       " -0.020466547459363937,\n",
       " 0.11211436986923218,\n",
       " -0.007440429180860519,\n",
       " -0.059549205005168915,\n",
       " -0.020466547459363937,\n",
       " 0.4773979187011719,\n",
       " 0.09079879522323608,\n",
       " 0.5315876007080078,\n",
       " 0.44185006618499756,\n",
       " 0.3822871446609497,\n",
       " -0.020466547459363937,\n",
       " 0.2878986597061157,\n",
       " 0.07410271465778351,\n",
       " 0.12391938269138336,\n",
       " -0.020466547459363937,\n",
       " 0.2658400237560272,\n",
       " -0.022624803707003593,\n",
       " 0.26128020882606506,\n",
       " 0.37458670139312744,\n",
       " 0.27797746658325195,\n",
       " -0.04182325303554535,\n",
       " 0.06804078072309494,\n",
       " 0.14433419704437256,\n",
       " 0.3822871446609497,\n",
       " 0.16758662462234497,\n",
       " 0.5548346042633057,\n",
       " 0.03524259850382805,\n",
       " 0.09341208636760712,\n",
       " 0.4594419300556183,\n",
       " 0.09658829122781754,\n",
       " 0.3822871446609497,\n",
       " 0.6665584444999695,\n",
       " 0.12396445870399475,\n",
       " 0.07970035076141357,\n",
       " 0.2240307629108429]"
      ]
     },
     "execution_count": 12,
     "metadata": {},
     "output_type": "execute_result"
    }
   ],
   "source": [
    "#get relevance scores (idxes match those from clean concepts)\n",
    "abstractParser.concept_relevances()\n"
   ]
  }
 ],
 "metadata": {
  "kernelspec": {
   "display_name": "base",
   "language": "python",
   "name": "python3"
  },
  "language_info": {
   "codemirror_mode": {
    "name": "ipython",
    "version": 3
   },
   "file_extension": ".py",
   "mimetype": "text/x-python",
   "name": "python",
   "nbconvert_exporter": "python",
   "pygments_lexer": "ipython3",
   "version": "3.12.2"
  }
 },
 "nbformat": 4,
 "nbformat_minor": 2
}
